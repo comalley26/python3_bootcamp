{
 "cells": [
  {
   "cell_type": "markdown",
   "metadata": {},
   "source": [
    "Errors are bound to happen in your code - especially when someone uses it in an unexpected way\n",
    "\n",
    "We can use error handling to attempt to plan for possible errors\n",
    "\n",
    "For example, a user may try to write a file that was only opened in mode = 'r'\n",
    "\n",
    "If there is any type of error in your code, the entire script will stop\n",
    "\n",
    "We can use Error Handling to let the script continue with other code, even if there is an error\n",
    "\n",
    "We use three keywords for error handling:\n",
    "\n",
    "-- try: Block of code to be attempted (may lead to error)\n",
    "\n",
    "-- except: Block of code that will execute in case of an error in the try block\n",
    "\n",
    "-- finally: A final block of code to be executed, regardless of an error"
   ]
  },
  {
   "cell_type": "code",
   "execution_count": 1,
   "metadata": {},
   "outputs": [],
   "source": [
    "def add(n1, n2):\n",
    "    print(n1 + n2)"
   ]
  },
  {
   "cell_type": "code",
   "execution_count": 2,
   "metadata": {},
   "outputs": [
    {
     "name": "stdout",
     "output_type": "stream",
     "text": [
      "30\n"
     ]
    }
   ],
   "source": [
    "add(10,20)"
   ]
  },
  {
   "cell_type": "code",
   "execution_count": 3,
   "metadata": {},
   "outputs": [
    {
     "name": "stdout",
     "output_type": "stream",
     "text": [
      "Please provide a number: 20\n"
     ]
    }
   ],
   "source": [
    "# we will now try with 10 and an input value\n",
    "\n",
    "number1 = 10\n",
    "\n",
    "number2 = input(\"Please provide a number: \")"
   ]
  },
  {
   "cell_type": "code",
   "execution_count": 5,
   "metadata": {},
   "outputs": [
    {
     "ename": "TypeError",
     "evalue": "unsupported operand type(s) for +: 'int' and 'str'",
     "output_type": "error",
     "traceback": [
      "\u001b[1;31m---------------------------------------------------------------------------\u001b[0m",
      "\u001b[1;31mTypeError\u001b[0m                                 Traceback (most recent call last)",
      "\u001b[1;32m<ipython-input-5-8dddeee39adb>\u001b[0m in \u001b[0;36m<module>\u001b[1;34m()\u001b[0m\n\u001b[0;32m      3\u001b[0m \u001b[1;31m# the second print statement will never occur\u001b[0m\u001b[1;33m\u001b[0m\u001b[1;33m\u001b[0m\u001b[0m\n\u001b[0;32m      4\u001b[0m \u001b[1;33m\u001b[0m\u001b[0m\n\u001b[1;32m----> 5\u001b[1;33m \u001b[0madd\u001b[0m\u001b[1;33m(\u001b[0m\u001b[0mnumber1\u001b[0m\u001b[1;33m,\u001b[0m \u001b[0mnumber2\u001b[0m\u001b[1;33m)\u001b[0m\u001b[1;33m\u001b[0m\u001b[0m\n\u001b[0m\u001b[0;32m      6\u001b[0m \u001b[1;33m\u001b[0m\u001b[0m\n\u001b[0;32m      7\u001b[0m \u001b[0mprint\u001b[0m\u001b[1;33m(\u001b[0m\u001b[1;34m\"something happened\"\u001b[0m\u001b[1;33m)\u001b[0m\u001b[1;33m\u001b[0m\u001b[0m\n",
      "\u001b[1;32m<ipython-input-1-26160d662457>\u001b[0m in \u001b[0;36madd\u001b[1;34m(n1, n2)\u001b[0m\n\u001b[0;32m      1\u001b[0m \u001b[1;32mdef\u001b[0m \u001b[0madd\u001b[0m\u001b[1;33m(\u001b[0m\u001b[0mn1\u001b[0m\u001b[1;33m,\u001b[0m \u001b[0mn2\u001b[0m\u001b[1;33m)\u001b[0m\u001b[1;33m:\u001b[0m\u001b[1;33m\u001b[0m\u001b[0m\n\u001b[1;32m----> 2\u001b[1;33m     \u001b[0mprint\u001b[0m\u001b[1;33m(\u001b[0m\u001b[0mn1\u001b[0m \u001b[1;33m+\u001b[0m \u001b[0mn2\u001b[0m\u001b[1;33m)\u001b[0m\u001b[1;33m\u001b[0m\u001b[0m\n\u001b[0m",
      "\u001b[1;31mTypeError\u001b[0m: unsupported operand type(s) for +: 'int' and 'str'"
     ]
    }
   ],
   "source": [
    "# this will now return an error because you can't add a number and a string\n",
    "\n",
    "# the second print statement will never occur\n",
    "\n",
    "add(number1, number2)\n",
    "\n",
    "print(\"something happened\")"
   ]
  },
  {
   "cell_type": "code",
   "execution_count": 7,
   "metadata": {},
   "outputs": [],
   "source": [
    "# we can fix this with error handling - showing initial try statement with operable numbers (no output)\n",
    "\n",
    "try:\n",
    "\n",
    "    result = 10 + 10\n",
    "\n",
    "except:\n",
    "    \n",
    "    print('Hey it looks like you arent adding correctly')"
   ]
  },
  {
   "cell_type": "code",
   "execution_count": 8,
   "metadata": {},
   "outputs": [
    {
     "name": "stdout",
     "output_type": "stream",
     "text": [
      "Hey it looks like you arent adding correctly\n"
     ]
    }
   ],
   "source": [
    "# now with false try statement and error handling\n",
    "\n",
    "try:\n",
    "\n",
    "    result = 10 + '10'\n",
    "\n",
    "except:\n",
    "    \n",
    "    print('Hey it looks like you arent adding correctly')"
   ]
  },
  {
   "cell_type": "code",
   "execution_count": 9,
   "metadata": {},
   "outputs": [
    {
     "name": "stdout",
     "output_type": "stream",
     "text": [
      "adding went well\n",
      "20\n"
     ]
    }
   ],
   "source": [
    "# we can also use else statements to these blocks of code - this runs if the try statement works\n",
    "\n",
    "try:\n",
    "\n",
    "    result = 10 + 10\n",
    "\n",
    "except:\n",
    "    \n",
    "    print('Hey it looks like you arent adding correctly')\n",
    "    \n",
    "else:\n",
    "    \n",
    "    print('adding went well')\n",
    "    print(result)"
   ]
  },
  {
   "cell_type": "code",
   "execution_count": 10,
   "metadata": {},
   "outputs": [
    {
     "name": "stdout",
     "output_type": "stream",
     "text": [
      "I always run no matter WHAT\n"
     ]
    }
   ],
   "source": [
    "# example where we try to write some files - no error because we are in write mode\n",
    "\n",
    "try:\n",
    "    \n",
    "    f = open('testfile', mode = 'w')\n",
    "    f.write('Write a new line')\n",
    "    \n",
    "except TypeError:\n",
    "    \n",
    "    print('There was a type error')\n",
    "    \n",
    "except OSError:\n",
    "    \n",
    "    print('You do not have permission to write to this file - OS Error')\n",
    "    \n",
    "finally:\n",
    "    \n",
    "    print('I always run no matter WHAT')"
   ]
  },
  {
   "cell_type": "code",
   "execution_count": 11,
   "metadata": {},
   "outputs": [
    {
     "name": "stdout",
     "output_type": "stream",
     "text": [
      "You do not have permission to write to this file - OS Error\n",
      "I always run no matter WHAT\n"
     ]
    }
   ],
   "source": [
    "# now there will be an error because we are in read mode\n",
    "\n",
    "try:\n",
    "    \n",
    "    f = open('testfile', mode = 'r')\n",
    "    f.write('Write a new line')\n",
    "    \n",
    "except TypeError:\n",
    "    \n",
    "    print('There was a type error')\n",
    "    \n",
    "except OSError:\n",
    "    \n",
    "    print('You do not have permission to write to this file - OS Error')\n",
    "    \n",
    "finally:\n",
    "    \n",
    "    print('I always run no matter WHAT')"
   ]
  },
  {
   "cell_type": "code",
   "execution_count": 16,
   "metadata": {},
   "outputs": [],
   "source": [
    "# function using error handling\n",
    "\n",
    "def ask_for_int():\n",
    "    \n",
    "    try:\n",
    "        \n",
    "        result = int(input(\"Please provide a number: \"))\n",
    "        \n",
    "    except:\n",
    "        \n",
    "        print(\"Whoops that isn't a number\")\n",
    "        \n",
    "    finally:\n",
    "        \n",
    "        print('End of try/except/finally')"
   ]
  },
  {
   "cell_type": "code",
   "execution_count": 17,
   "metadata": {},
   "outputs": [
    {
     "name": "stdout",
     "output_type": "stream",
     "text": [
      "Please provide a number: 20\n",
      "End of try/except/finally\n"
     ]
    }
   ],
   "source": [
    "ask_for_int() # using a number"
   ]
  },
  {
   "cell_type": "code",
   "execution_count": 18,
   "metadata": {},
   "outputs": [
    {
     "name": "stdout",
     "output_type": "stream",
     "text": [
      "Please provide a number: hello\n",
      "Whoops that isn't a number\n",
      "End of try/except/finally\n"
     ]
    }
   ],
   "source": [
    "ask_for_int() # using a word (error)"
   ]
  },
  {
   "cell_type": "code",
   "execution_count": 22,
   "metadata": {},
   "outputs": [],
   "source": [
    "# adjust function so that instead of ending after wrong word is provided, we will go back to the top of a while loop\n",
    "\n",
    "# now it says that if there is not an error, go to else statement\n",
    "\n",
    "def ask_for_int():\n",
    "    \n",
    "    while True:\n",
    "        \n",
    "        try:\n",
    "\n",
    "            result = int(input(\"Please provide a number: \"))\n",
    "\n",
    "        except:\n",
    "\n",
    "            print(\"Whoops that isn't a number\")\n",
    "            continue # continue if there is an error\n",
    "            \n",
    "        else:\n",
    "            \n",
    "            print(\"Thank you for providing a number\")\n",
    "            break # break out of while loop if there is no error\n",
    "\n",
    "        finally:\n",
    "\n",
    "            print('End of try/except/finally \\n')"
   ]
  },
  {
   "cell_type": "code",
   "execution_count": 23,
   "metadata": {},
   "outputs": [
    {
     "name": "stdout",
     "output_type": "stream",
     "text": [
      "Please provide a number: 20\n",
      "Thank you for providing a number\n",
      "End of try/except/finally \n",
      "\n"
     ]
    }
   ],
   "source": [
    "ask_for_int()"
   ]
  },
  {
   "cell_type": "code",
   "execution_count": 24,
   "metadata": {},
   "outputs": [
    {
     "name": "stdout",
     "output_type": "stream",
     "text": [
      "Please provide a number: hello\n",
      "Whoops that isn't a number\n",
      "End of try/except/finally \n",
      "\n",
      "Please provide a number: hey\n",
      "Whoops that isn't a number\n",
      "End of try/except/finally \n",
      "\n",
      "Please provide a number: 50\n",
      "Thank you for providing a number\n",
      "End of try/except/finally \n",
      "\n"
     ]
    }
   ],
   "source": [
    "ask_for_int()"
   ]
  },
  {
   "cell_type": "code",
   "execution_count": null,
   "metadata": {},
   "outputs": [],
   "source": []
  }
 ],
 "metadata": {
  "kernelspec": {
   "display_name": "Python 3",
   "language": "python",
   "name": "python3"
  },
  "language_info": {
   "codemirror_mode": {
    "name": "ipython",
    "version": 3
   },
   "file_extension": ".py",
   "mimetype": "text/x-python",
   "name": "python",
   "nbconvert_exporter": "python",
   "pygments_lexer": "ipython3",
   "version": "3.6.5"
  }
 },
 "nbformat": 4,
 "nbformat_minor": 2
}

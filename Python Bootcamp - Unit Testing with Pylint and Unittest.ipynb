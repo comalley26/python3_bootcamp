{
 "cells": [
  {
   "cell_type": "markdown",
   "metadata": {},
   "source": [
    "As you begin to expand to larger multi file projects, it becomes important to have tests in place\n",
    "\n",
    "This way, if you make changes or update your code you can run your test files to make sure previous code still runs as expected\n",
    "\n",
    "There are several testing tools, but we will focus on pylint and unittest\n",
    "\n",
    "Pylint looks at your code and reports back possible issues\n",
    "\n",
    "Unittest allows you to test your own programs and make sure you are getting the desired output\n",
    "\n",
    "We will start with pylint to check code for possible errors and styling (Python uses PEP-8 styling)\n",
    "\n",
    "Then we will test code with built-in unittest library"
   ]
  },
  {
   "cell_type": "code",
   "execution_count": 1,
   "metadata": {},
   "outputs": [],
   "source": [
    "# note that this was mostly done using sublime text editor and running directly in conda prompt\n",
    "\n",
    "import os\n",
    "\n",
    "os.chdir(\"C:\\\\Users\\\\casey\\\\OneDrive\\\\Desktop\")"
   ]
  },
  {
   "cell_type": "code",
   "execution_count": 3,
   "metadata": {},
   "outputs": [],
   "source": [
    "# once we are in the right directory (in this case Desktop) we run the following in command prompt wo calling python:\n",
    "\n",
    "# pylint simple1.py"
   ]
  },
  {
   "cell_type": "code",
   "execution_count": 4,
   "metadata": {},
   "outputs": [],
   "source": [
    "# simple1.py has errors, so there will be multiple issues that it points out\n",
    "\n",
    "# simple2.py does not have errors and better conforms to pylint's scoring system - to see run this code in Desktop:\n",
    "\n",
    "# pylint simple2.py\n",
    "\n",
    "# note that pylint prefers spaces to tabs because they are more consistent across text editors\n",
    "\n",
    "# you will not usually be doing this on your own code, but it is very helpful for large projects"
   ]
  },
  {
   "cell_type": "code",
   "execution_count": 7,
   "metadata": {},
   "outputs": [],
   "source": [
    "# moving onto Unittest\n",
    "\n",
    "# unittest allows us to write our own test programs\n",
    "\n",
    "# send data to program, return results, and see if it runs as expected\n",
    "\n",
    "# we will illustrate with one script that capitalizes text (cap.py), and another that tests that program (test_cap.py)"
   ]
  },
  {
   "cell_type": "code",
   "execution_count": 9,
   "metadata": {},
   "outputs": [],
   "source": [
    "# when we initally try to run the test_cap.py script, it doesn't work because capitalize only works on the first letter\n",
    "\n",
    "# we switch the code in cap.py to text.title() to fix this problem"
   ]
  },
  {
   "cell_type": "code",
   "execution_count": 11,
   "metadata": {},
   "outputs": [],
   "source": [
    "# The general idea of unittest is that we have scripts and we make functions and classes to see if they run as intended\n",
    "\n",
    "# we import unittest and any scripts we have been working on, create a class for testing, inherit from \n",
    "# unittest.TestCase, run tests for any scenarios you can think of, then use assertEqual to see if the results work"
   ]
  },
  {
   "cell_type": "markdown",
   "metadata": {},
   "source": [
    "**simple1.py:**\n",
    "\n",
    "a = 1\n",
    "\n",
    "b = 2\n",
    "\n",
    "print(a)\n",
    "\n",
    "print(B)"
   ]
  },
  {
   "cell_type": "markdown",
   "metadata": {},
   "source": [
    "**simple2.py:**\n",
    "\n",
    "'''\n",
    "A very simple script\n",
    "'''\n",
    "\n",
    "def myfunc():\n",
    "    '''\n",
    "    A simple function\n",
    "    '''\n",
    "\n",
    "    first = 1\n",
    "    second = 2\n",
    "\n",
    "    print(first)\n",
    "    print(second)\n",
    "\n",
    "myfunc()\n"
   ]
  },
  {
   "cell_type": "markdown",
   "metadata": {},
   "source": [
    "**cap.py:**\n",
    "\n",
    "def cap_text(text):\n",
    "\t\n",
    "    '''\n",
    "\tInput string \n",
    "\tOutput capitalized string\n",
    "\t'''\n",
    "\t\n",
    "    return text.capitalize()\n",
    "\t"
   ]
  },
  {
   "cell_type": "markdown",
   "metadata": {},
   "source": [
    "**test_cap.py:**\n",
    "\n",
    "import unittest\n",
    "\n",
    "import cap\n",
    "\n",
    "class Test_Cap(unittest.TestCase):\n",
    "\n",
    "\tdef test_one_word(self):\n",
    "\n",
    "\t\ttext = 'python'\n",
    "\t\tresult = cap.cap_text(text)\n",
    "\t\tself.assertEqual(result, 'Python')\n",
    "\n",
    "\tdef test_multiple_words(self):\n",
    "\n",
    "\t\ttext = 'monty python'\n",
    "\t\tresult = cap.cap_text(text)\n",
    "\t\tself.assertEqual(result, 'Monty Python')\n",
    "\n",
    "if __name__ == '__main__':\n",
    "\n",
    "\tunittest.main()"
   ]
  },
  {
   "cell_type": "code",
   "execution_count": null,
   "metadata": {},
   "outputs": [],
   "source": []
  }
 ],
 "metadata": {
  "kernelspec": {
   "display_name": "Python 3",
   "language": "python",
   "name": "python3"
  },
  "language_info": {
   "codemirror_mode": {
    "name": "ipython",
    "version": 3
   },
   "file_extension": ".py",
   "mimetype": "text/x-python",
   "name": "python",
   "nbconvert_exporter": "python",
   "pygments_lexer": "ipython3",
   "version": "3.6.5"
  }
 },
 "nbformat": 4,
 "nbformat_minor": 2
}

{
 "cells": [
  {
   "cell_type": "markdown",
   "metadata": {},
   "source": [
    "PyPI is a repository for open source third party python packages\n",
    "\n",
    "It is similar to RubyGems in Ruby, PHP's Packagist, CPAN for Perl, and NPM for Node.js\n",
    "\n",
    "Thus far we have only used Python's internal libraries\n",
    "\n",
    "There are many other libraries we can use with PyPi\n",
    "\n",
    "We can use pip install at the command line to install these packages\n",
    "\n",
    "Note that we can use pip install ___ right at the command line (no cd or Python initiation necessary)\n",
    "\n",
    "Just writing python into the command line will initiate a Python session, which can be exited with quit()\n",
    "\n",
    "From there we can use all installed packages using import package"
   ]
  },
  {
   "cell_type": "markdown",
   "metadata": {},
   "source": [
    "**Creating packages in python**\n",
    "\n",
    "Modules are just .py scripts that you call in another .py script\n",
    "\n",
    "Packages are a collection of modules\n",
    "\n",
    "There is a key .py script (__init__.py) that let's python know to treat all scripts in a folder as a package\n",
    "\n",
    "Let's create some examples using Sublime text editor\n",
    "\n",
    "Steps taken:\n",
    "\n",
    "-- Create myprogram.py and mymodule.py and save to desktop (mymodule imports function from myprogram)\n",
    "\n",
    "-- Run 'python myprogram.py' in anaconda prompt to see results of running file\n",
    "\n",
    "-- Create MyMainPackage folder on desktop as well as Subpackage folder within it\n",
    "\n",
    "-- Create '__init__.py' file in MyMainPackage and Subpackage folder; this does not need to contain any code, it just lets python know that there is a package in there\n",
    "\n",
    "-- Create python scripts in the MyMainPackage and Subpackage folders that are relevant to your project\n",
    "\n",
    "-- Import functions from main package: from MyMainPackage import filename.py\n",
    "\n",
    "-- Import functions from subpackage: from MyMainPackage.Subpackage import filename.py\n",
    "\n",
    "-- To see final results with imported functions printed out, run 'python myprogram2.py' in anaconda prompt from Desktop folder\n"
   ]
  },
  {
   "cell_type": "markdown",
   "metadata": {},
   "source": [
    "**An often confusing line of python code is: if __name__ == \"__main__\":**\n",
    "\n",
    "Sometimes when you are importing from a module, you would like to know if a module's function is being used as an import or if you are using the original .py file of that module\n",
    "\n",
    "What this is actually saying is that if this file is running directly, then run some code\n",
    "\n",
    "Often people will create a bunch of functions at the top, then use the if statement to write the functions they want to execute\n",
    "\n",
    "To see in action, run 'python one.py' in anaconda prompt followed by 'python two.py' and observe differences in results\n",
    "\n"
   ]
  },
  {
   "cell_type": "code",
   "execution_count": null,
   "metadata": {},
   "outputs": [],
   "source": []
  }
 ],
 "metadata": {
  "kernelspec": {
   "display_name": "Python 3",
   "language": "python",
   "name": "python3"
  },
  "language_info": {
   "codemirror_mode": {
    "name": "ipython",
    "version": 3
   },
   "file_extension": ".py",
   "mimetype": "text/x-python",
   "name": "python",
   "nbconvert_exporter": "python",
   "pygments_lexer": "ipython3",
   "version": "3.6.5"
  }
 },
 "nbformat": 4,
 "nbformat_minor": 2
}

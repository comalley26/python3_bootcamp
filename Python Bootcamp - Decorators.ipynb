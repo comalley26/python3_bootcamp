{
 "cells": [
  {
   "cell_type": "markdown",
   "metadata": {},
   "source": [
    "Decorators allow you to decorate functions.\n",
    "\n",
    "If you want to incorporate new capabilities into a function, there are two options:\n",
    "\n",
    "-- Add that extra functionality to the old function\n",
    "\n",
    "-- Create a new function that contains the old code, then add new code to that\n",
    "\n",
    "What if you wanted to remove the extra functionality?\n",
    "\n",
    "-- You would have to delete it manually or use the old function if you made a new one\n",
    "\n",
    "-- What if we could add on/off switches to each functionality?\n",
    "\n",
    "Decorators allow you to tack on extra functionality to an existing function\n",
    "\n",
    "Decorators use the @ operator and are placed at the top of the original function (kind of a one liner on top of function)"
   ]
  },
  {
   "cell_type": "code",
   "execution_count": 1,
   "metadata": {},
   "outputs": [],
   "source": [
    "# creating simple function\n",
    "\n",
    "def func():\n",
    "    return 1"
   ]
  },
  {
   "cell_type": "code",
   "execution_count": 2,
   "metadata": {},
   "outputs": [
    {
     "data": {
      "text/plain": [
       "1"
      ]
     },
     "execution_count": 2,
     "metadata": {},
     "output_type": "execute_result"
    }
   ],
   "source": [
    "func()"
   ]
  },
  {
   "cell_type": "code",
   "execution_count": 3,
   "metadata": {},
   "outputs": [],
   "source": [
    "def hello():\n",
    "    return \"hello!\""
   ]
  },
  {
   "cell_type": "code",
   "execution_count": 7,
   "metadata": {},
   "outputs": [
    {
     "data": {
      "text/plain": [
       "'hello!'"
      ]
     },
     "execution_count": 7,
     "metadata": {},
     "output_type": "execute_result"
    }
   ],
   "source": [
    "hello()"
   ]
  },
  {
   "cell_type": "code",
   "execution_count": 6,
   "metadata": {},
   "outputs": [
    {
     "data": {
      "text/plain": [
       "<function __main__.hello()>"
      ]
     },
     "execution_count": 6,
     "metadata": {},
     "output_type": "execute_result"
    }
   ],
   "source": [
    "hello"
   ]
  },
  {
   "cell_type": "code",
   "execution_count": 8,
   "metadata": {},
   "outputs": [],
   "source": [
    "# we can pass in the hello function to another function\n",
    "\n",
    "greet = hello"
   ]
  },
  {
   "cell_type": "code",
   "execution_count": 9,
   "metadata": {},
   "outputs": [
    {
     "data": {
      "text/plain": [
       "'hello!'"
      ]
     },
     "execution_count": 9,
     "metadata": {},
     "output_type": "execute_result"
    }
   ],
   "source": [
    "greet()"
   ]
  },
  {
   "cell_type": "code",
   "execution_count": 11,
   "metadata": {},
   "outputs": [],
   "source": [
    "# can we still run greet if we delete hello?\n",
    "\n",
    "del hello"
   ]
  },
  {
   "cell_type": "code",
   "execution_count": 12,
   "metadata": {},
   "outputs": [
    {
     "data": {
      "text/plain": [
       "'hello!'"
      ]
     },
     "execution_count": 12,
     "metadata": {},
     "output_type": "execute_result"
    }
   ],
   "source": [
    "greet() # greet still works because it made a copy of hello - doesn't matter if hello gets deleted"
   ]
  },
  {
   "cell_type": "code",
   "execution_count": 15,
   "metadata": {},
   "outputs": [],
   "source": [
    "# we can use defined functions within other functions\n",
    "\n",
    "def hello(name = 'Jose'):\n",
    "    print(\"the function has been executed\")"
   ]
  },
  {
   "cell_type": "code",
   "execution_count": 16,
   "metadata": {},
   "outputs": [
    {
     "name": "stdout",
     "output_type": "stream",
     "text": [
      "the function has been executed\n"
     ]
    }
   ],
   "source": [
    "hello()"
   ]
  },
  {
   "cell_type": "code",
   "execution_count": 17,
   "metadata": {},
   "outputs": [],
   "source": [
    "# putting greet inside of hello\n",
    "\n",
    "def hello(name = 'Jose'):\n",
    "    print(\"the hello function has been executed\")\n",
    "    \n",
    "    def greet():\n",
    "        return '\\t this is the greet function inside of hello'"
   ]
  },
  {
   "cell_type": "code",
   "execution_count": 18,
   "metadata": {},
   "outputs": [
    {
     "name": "stdout",
     "output_type": "stream",
     "text": [
      "the hello function has been executed\n"
     ]
    }
   ],
   "source": [
    "hello() # still working same as before"
   ]
  },
  {
   "cell_type": "code",
   "execution_count": 19,
   "metadata": {},
   "outputs": [],
   "source": [
    "# what if we printed greet at the end of the function?\n",
    "\n",
    "def hello(name = 'Jose'):\n",
    "    print(\"the hello function has been executed\")\n",
    "    \n",
    "    def greet():\n",
    "        return '\\t this is the greet function inside of hello'\n",
    "    \n",
    "    print(greet())"
   ]
  },
  {
   "cell_type": "code",
   "execution_count": 20,
   "metadata": {},
   "outputs": [
    {
     "name": "stdout",
     "output_type": "stream",
     "text": [
      "the hello function has been executed\n",
      "\t this is the greet function inside of hello\n"
     ]
    }
   ],
   "source": [
    "hello()"
   ]
  },
  {
   "cell_type": "code",
   "execution_count": 23,
   "metadata": {},
   "outputs": [],
   "source": [
    "# define another function inside of hello\n",
    "\n",
    "def hello(name = 'Jose'):\n",
    "    print(\"the hello function has been executed\")\n",
    "    \n",
    "    def greet():\n",
    "        return '\\t this is the greet function inside of hello'\n",
    "    \n",
    "    def welcome():\n",
    "        return '\\t this is the welcome function inside of hello'\n",
    "\n",
    "    print(greet())\n",
    "    print(welcome())\n",
    "    print('end of hello function')"
   ]
  },
  {
   "cell_type": "code",
   "execution_count": 24,
   "metadata": {},
   "outputs": [
    {
     "name": "stdout",
     "output_type": "stream",
     "text": [
      "the hello function has been executed\n",
      "\t this is the greet function inside of hello\n",
      "\t this is the welcome function inside of hello\n",
      "end of hello function\n"
     ]
    }
   ],
   "source": [
    "hello()"
   ]
  },
  {
   "cell_type": "code",
   "execution_count": 25,
   "metadata": {},
   "outputs": [
    {
     "ename": "NameError",
     "evalue": "name 'welcome' is not defined",
     "output_type": "error",
     "traceback": [
      "\u001b[1;31m---------------------------------------------------------------------------\u001b[0m",
      "\u001b[1;31mNameError\u001b[0m                                 Traceback (most recent call last)",
      "\u001b[1;32m<ipython-input-25-8e8357660d38>\u001b[0m in \u001b[0;36m<module>\u001b[1;34m()\u001b[0m\n\u001b[0;32m      1\u001b[0m \u001b[1;31m# note that these functions do not exist outside of the hello function\u001b[0m\u001b[1;33m\u001b[0m\u001b[1;33m\u001b[0m\u001b[0m\n\u001b[0;32m      2\u001b[0m \u001b[1;33m\u001b[0m\u001b[0m\n\u001b[1;32m----> 3\u001b[1;33m \u001b[0mwelcome\u001b[0m\u001b[1;33m(\u001b[0m\u001b[1;33m)\u001b[0m\u001b[1;33m\u001b[0m\u001b[0m\n\u001b[0m",
      "\u001b[1;31mNameError\u001b[0m: name 'welcome' is not defined"
     ]
    }
   ],
   "source": [
    "# note that these functions do not exist outside of the hello function\n",
    "\n",
    "welcome()"
   ]
  },
  {
   "cell_type": "code",
   "execution_count": 26,
   "metadata": {},
   "outputs": [],
   "source": [
    "# what if our hello function could return a function?\n",
    "\n",
    "def hello(name = 'Jose'):\n",
    "    print(\"the hello function has been executed\")\n",
    "    \n",
    "    def greet():\n",
    "        return '\\t this is the greet function inside of hello'\n",
    "    \n",
    "    def welcome():\n",
    "        return '\\t this is the welcome function inside of hello'\n",
    "\n",
    "    print('im gonna return a function')\n",
    "    \n",
    "    if name == 'Jose':\n",
    "        return greet\n",
    "    else:\n",
    "        return welcome\n",
    "    \n",
    "    print('end of hello function')"
   ]
  },
  {
   "cell_type": "code",
   "execution_count": 28,
   "metadata": {},
   "outputs": [
    {
     "name": "stdout",
     "output_type": "stream",
     "text": [
      "the hello function has been executed\n",
      "im gonna return a function\n"
     ]
    }
   ],
   "source": [
    "my_new_func = hello('Jose') # returns greet"
   ]
  },
  {
   "cell_type": "code",
   "execution_count": 29,
   "metadata": {},
   "outputs": [
    {
     "name": "stdout",
     "output_type": "stream",
     "text": [
      "\t this is the greet function inside of hello\n"
     ]
    }
   ],
   "source": [
    "print(my_new_func()) # prints greet"
   ]
  },
  {
   "cell_type": "code",
   "execution_count": 30,
   "metadata": {},
   "outputs": [
    {
     "name": "stdout",
     "output_type": "stream",
     "text": [
      "the hello function has been executed\n",
      "im gonna return a function\n"
     ]
    }
   ],
   "source": [
    "another_new_func = hello('Casey') # returns welcome"
   ]
  },
  {
   "cell_type": "code",
   "execution_count": 31,
   "metadata": {},
   "outputs": [
    {
     "name": "stdout",
     "output_type": "stream",
     "text": [
      "\t this is the welcome function inside of hello\n"
     ]
    }
   ],
   "source": [
    "print(another_new_func()) # returns welcome"
   ]
  },
  {
   "cell_type": "code",
   "execution_count": 32,
   "metadata": {},
   "outputs": [],
   "source": [
    "# another example\n",
    "\n",
    "def cool():\n",
    "    \n",
    "    def supercool():\n",
    "        return \"I am very cool\"\n",
    "    \n",
    "    return supercool"
   ]
  },
  {
   "cell_type": "code",
   "execution_count": 33,
   "metadata": {},
   "outputs": [],
   "source": [
    "some_func = cool()"
   ]
  },
  {
   "cell_type": "code",
   "execution_count": 34,
   "metadata": {},
   "outputs": [
    {
     "name": "stdout",
     "output_type": "stream",
     "text": [
      "I am very cool\n"
     ]
    }
   ],
   "source": [
    "# some_func is now the supercool function\n",
    "\n",
    "print(some_func())"
   ]
  },
  {
   "cell_type": "code",
   "execution_count": 35,
   "metadata": {},
   "outputs": [],
   "source": [
    "# passing in a function as an argument\n",
    "\n",
    "def hello():\n",
    "    return \"Hi Jose\""
   ]
  },
  {
   "cell_type": "code",
   "execution_count": 37,
   "metadata": {},
   "outputs": [],
   "source": [
    "def other(some_def_func):\n",
    "    print(\"Other code runs here\")\n",
    "    print(some_def_func())"
   ]
  },
  {
   "cell_type": "code",
   "execution_count": 38,
   "metadata": {},
   "outputs": [
    {
     "name": "stdout",
     "output_type": "stream",
     "text": [
      "Other code runs here\n",
      "Hi Jose\n"
     ]
    }
   ],
   "source": [
    "# we now pass hello into other with no parentheses\n",
    "\n",
    "other(hello)"
   ]
  },
  {
   "cell_type": "code",
   "execution_count": 39,
   "metadata": {},
   "outputs": [],
   "source": [
    "# with these tools we can create a decorator\n",
    "\n",
    "def new_decorator(og_function):\n",
    "    \n",
    "    def wrap_func():\n",
    "        \n",
    "        print(\"some extra code before original function\")\n",
    "        \n",
    "        og_function()\n",
    "        \n",
    "        print(\"some extra code after original function\")\n",
    "        \n",
    "    return wrap_func"
   ]
  },
  {
   "cell_type": "code",
   "execution_count": 40,
   "metadata": {},
   "outputs": [],
   "source": [
    "# create function that needs a decorator\n",
    "\n",
    "def func_needs_dec():\n",
    "    print(\"I want to be decorated\")"
   ]
  },
  {
   "cell_type": "code",
   "execution_count": 42,
   "metadata": {},
   "outputs": [
    {
     "name": "stdout",
     "output_type": "stream",
     "text": [
      "I want to be decorated\n"
     ]
    }
   ],
   "source": [
    "func_needs_dec()"
   ]
  },
  {
   "cell_type": "code",
   "execution_count": 44,
   "metadata": {},
   "outputs": [],
   "source": [
    "# pass the function that needs a decorator into the new decorator\n",
    "\n",
    "decorated = new_decorator(func_needs_dec)"
   ]
  },
  {
   "cell_type": "code",
   "execution_count": 45,
   "metadata": {},
   "outputs": [
    {
     "name": "stdout",
     "output_type": "stream",
     "text": [
      "some extra code before original function\n",
      "I want to be decorated\n",
      "some extra code after original function\n"
     ]
    }
   ],
   "source": [
    "decorated()"
   ]
  },
  {
   "cell_type": "code",
   "execution_count": 46,
   "metadata": {},
   "outputs": [],
   "source": [
    "# what we did was quite complicated, so now we will use the @ operator\n",
    "\n",
    "@new_decorator\n",
    "def func_needs_dec():\n",
    "    print(\"I want to be decorated\")"
   ]
  },
  {
   "cell_type": "code",
   "execution_count": 47,
   "metadata": {},
   "outputs": [
    {
     "name": "stdout",
     "output_type": "stream",
     "text": [
      "some extra code before original function\n",
      "I want to be decorated\n",
      "some extra code after original function\n"
     ]
    }
   ],
   "source": [
    "# @ basically says that you will pipe the function below it into the function called next to the @ operator\n",
    "\n",
    "func_needs_dec() # now it is showing the decorated version"
   ]
  },
  {
   "cell_type": "code",
   "execution_count": 48,
   "metadata": {},
   "outputs": [
    {
     "name": "stdout",
     "output_type": "stream",
     "text": [
      "I want to be decorated\n"
     ]
    }
   ],
   "source": [
    "# if we want to get rid of it, we just comment it out\n",
    "\n",
    "#@new_decorator\n",
    "def func_needs_dec():\n",
    "    print(\"I want to be decorated\")\n",
    "    \n",
    "func_needs_dec()"
   ]
  },
  {
   "cell_type": "code",
   "execution_count": 49,
   "metadata": {},
   "outputs": [],
   "source": [
    "# These are mostly used when making web pages with Django/Flask to point to other web pages and complete similar tasks"
   ]
  },
  {
   "cell_type": "code",
   "execution_count": null,
   "metadata": {},
   "outputs": [],
   "source": []
  }
 ],
 "metadata": {
  "kernelspec": {
   "display_name": "Python 3",
   "language": "python",
   "name": "python3"
  },
  "language_info": {
   "codemirror_mode": {
    "name": "ipython",
    "version": 3
   },
   "file_extension": ".py",
   "mimetype": "text/x-python",
   "name": "python",
   "nbconvert_exporter": "python",
   "pygments_lexer": "ipython3",
   "version": "3.6.5"
  }
 },
 "nbformat": 4,
 "nbformat_minor": 2
}

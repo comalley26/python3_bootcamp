{
 "cells": [
  {
   "cell_type": "markdown",
   "metadata": {},
   "source": [
    "Object oriented programming allows programmers to create their own objects that have attributes and methods \n",
    "\n",
    "Recall that the syntax for methods is .method_name()\n",
    "\n",
    "These methods act as functions that use information about the object, as well as the object itself, to return results or change the object\n",
    "\n",
    "Examples include appending a list or counting the number of times an element appears in a tuple\n",
    "\n",
    "\n",
    "\n",
    "OOP allows programmers to create their own objects.\n",
    "\n",
    "The general format is often confusing when first encountered, and its usefulness may not be clear at first\n",
    "\n",
    "In general, OOP allows us to create code that is repeatable and organized\n",
    "\n",
    "\n",
    "\n",
    "For large Python scripts, functions by themselves aren't enough for organization and repeatability\n",
    "\n",
    "Commonly repeated tasks and objects can be defined with OOP to create code that is more usable\n",
    "\n",
    "\n",
    "\n",
    "Objects are sometimes called classes because it uses class to define an object.\n",
    "\n",
    "Objects need to start with upper case letters, which is why we make functions with lower case letters\n",
    "\n",
    "\n",
    "\n",
    "Let's check out the syntax:\n",
    "\n",
    "class NameOfClass():\n",
    "\n",
    "    def __init__(self, param1, param2): # this creates an instance of the object\n",
    "    \n",
    "        self.param1 = param1 # assign parameters to attributes of the function\n",
    "        self.param2 = param2\n",
    "        \n",
    "    def some_method(self): # passing in self allows us to know which class this method belongs to\n",
    "    \n",
    "        # perform some action\n",
    "        print(self.param1)"
   ]
  },
  {
   "cell_type": "code",
   "execution_count": null,
   "metadata": {},
   "outputs": [],
   "source": []
  }
 ],
 "metadata": {
  "kernelspec": {
   "display_name": "Python 3",
   "language": "python",
   "name": "python3"
  },
  "language_info": {
   "codemirror_mode": {
    "name": "ipython",
    "version": 3
   },
   "file_extension": ".py",
   "mimetype": "text/x-python",
   "name": "python",
   "nbconvert_exporter": "python",
   "pygments_lexer": "ipython3",
   "version": "3.6.5"
  }
 },
 "nbformat": 4,
 "nbformat_minor": 2
}

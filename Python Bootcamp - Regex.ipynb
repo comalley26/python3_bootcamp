{
 "cells": [
  {
   "cell_type": "markdown",
   "metadata": {},
   "source": [
    "Regular expressions are a text matching pattern described with a formal syntax\n",
    "\n",
    "Good for find repetition, matching text between files, etc.\n",
    "\n",
    "A lot of parsing problems can be solved with regular expressions.\n",
    "\n",
    "Regex module in Python is re\n",
    "\n",
    "This lecture will cover fundamentals - refer to bootcamp notebook on regex and re documentation for more examples"
   ]
  },
  {
   "cell_type": "code",
   "execution_count": 1,
   "metadata": {},
   "outputs": [],
   "source": [
    "# search for a pattern in text\n",
    "\n",
    "import re"
   ]
  },
  {
   "cell_type": "code",
   "execution_count": 2,
   "metadata": {},
   "outputs": [],
   "source": [
    "# make list of patterns\n",
    "\n",
    "patterns = ['term1', 'term2']"
   ]
  },
  {
   "cell_type": "code",
   "execution_count": 8,
   "metadata": {},
   "outputs": [],
   "source": [
    "# make string object for analysis\n",
    "\n",
    "text = 'this is a string with term1 but not the other term'"
   ]
  },
  {
   "cell_type": "code",
   "execution_count": 4,
   "metadata": {},
   "outputs": [
    {
     "data": {
      "text/plain": [
       "<_sre.SRE_Match object; span=(0, 5), match='hello'>"
      ]
     },
     "execution_count": 4,
     "metadata": {},
     "output_type": "execute_result"
    }
   ],
   "source": [
    "# search method passes in a pattern and object for testing\n",
    "\n",
    "re.search(pattern = 'hello', string = 'hello_world') # returns a match object"
   ]
  },
  {
   "cell_type": "code",
   "execution_count": 11,
   "metadata": {},
   "outputs": [
    {
     "name": "stdout",
     "output_type": "stream",
     "text": [
      "\n",
      "Searching for 'term1' in: \n",
      "'this is a string with term1 but not the other term'\n",
      "\n",
      "\n",
      "Match found!\n",
      "\n",
      "Searching for 'term2' in: \n",
      "'this is a string with term1 but not the other term'\n",
      "\n",
      "\n",
      "No match\n"
     ]
    }
   ],
   "source": [
    "# see if the patterns were in the text\n",
    "\n",
    "for pattern in patterns:\n",
    "    \n",
    "    print(f\"\\nSearching for '{pattern}' in: \\n'{text}'\")\n",
    "    \n",
    "    if re.search(pattern, text):\n",
    "        print('\\n')\n",
    "        print(\"Match found!\")\n",
    "    else:\n",
    "        print('\\n')\n",
    "        print(\"No match\")"
   ]
  },
  {
   "cell_type": "code",
   "execution_count": 12,
   "metadata": {},
   "outputs": [],
   "source": [
    "# lets take a closer look at match objects using term1 and text\n",
    "\n",
    "match = re.search(patterns[0], text)"
   ]
  },
  {
   "cell_type": "code",
   "execution_count": 13,
   "metadata": {},
   "outputs": [
    {
     "data": {
      "text/plain": [
       "_sre.SRE_Match"
      ]
     },
     "execution_count": 13,
     "metadata": {},
     "output_type": "execute_result"
    }
   ],
   "source": [
    "type(match)"
   ]
  },
  {
   "cell_type": "code",
   "execution_count": 14,
   "metadata": {},
   "outputs": [
    {
     "data": {
      "text/plain": [
       "22"
      ]
     },
     "execution_count": 14,
     "metadata": {},
     "output_type": "execute_result"
    }
   ],
   "source": [
    "# match objects are more complex than a boolean\n",
    "\n",
    "# also contains info about the match, the regular expressions used, location of the match, and original input string\n",
    "\n",
    "match.start() # index of starting position"
   ]
  },
  {
   "cell_type": "code",
   "execution_count": 15,
   "metadata": {},
   "outputs": [
    {
     "data": {
      "text/plain": [
       "27"
      ]
     },
     "execution_count": 15,
     "metadata": {},
     "output_type": "execute_result"
    }
   ],
   "source": [
    "match.end() # index of ending position"
   ]
  },
  {
   "cell_type": "code",
   "execution_count": 16,
   "metadata": {},
   "outputs": [
    {
     "data": {
      "text/plain": [
       "(22, 27)"
      ]
     },
     "execution_count": 16,
     "metadata": {},
     "output_type": "execute_result"
    }
   ],
   "source": [
    "match.span() # tuple of start and end positions"
   ]
  },
  {
   "cell_type": "code",
   "execution_count": 17,
   "metadata": {},
   "outputs": [],
   "source": [
    "# splitting with regular expressions (very useful)\n",
    "\n",
    "split_term = '@'\n",
    "\n",
    "phrase = 'What is your email? Is it hello@gmail.com?'"
   ]
  },
  {
   "cell_type": "code",
   "execution_count": 18,
   "metadata": {},
   "outputs": [
    {
     "data": {
      "text/plain": [
       "['What is your email? Is it hello', 'gmail.com?']"
      ]
     },
     "execution_count": 18,
     "metadata": {},
     "output_type": "execute_result"
    }
   ],
   "source": [
    "# split operates very similar to .split() we've used before\n",
    "\n",
    "re.split(split_term, phrase)"
   ]
  },
  {
   "cell_type": "code",
   "execution_count": 19,
   "metadata": {},
   "outputs": [
    {
     "data": {
      "text/plain": [
       "['match', 'match']"
      ]
     },
     "execution_count": 19,
     "metadata": {},
     "output_type": "execute_result"
    }
   ],
   "source": [
    "# re.findall() finds all instances of a match\n",
    "\n",
    "re.findall('match', 'here is one match and also another match')"
   ]
  },
  {
   "cell_type": "code",
   "execution_count": 20,
   "metadata": {},
   "outputs": [],
   "source": [
    "# we will now use meta characters to assist us in finding patterns\n",
    "\n",
    "# lets create a function that will print out results given a list of various regular expressions and a phrase\n",
    "\n",
    "def multi_re_find(patterns, phrase):\n",
    "    '''\n",
    "    takes in list of all regex patterns and prints a list of all matches\n",
    "    '''\n",
    "    for pattern in patterns:\n",
    "        \n",
    "        print(\"Searching for the phrase: \\n{}\".format(pattern))\n",
    "        \n",
    "        print(re.findall(pattern, phrase))\n",
    "        \n",
    "        print('\\n')"
   ]
  },
  {
   "cell_type": "markdown",
   "metadata": {},
   "source": [
    "**from bootcamp regex file:**\n",
    "\n",
    "### Repetition Syntax\n",
    "\n",
    "There are five ways to express repetition in a pattern:\n",
    "\n",
    "   1. A pattern followed by the meta-character <code>*</code> is repeated zero or more times. \n",
    "   2. Replace the <code>*</code> with <code>+</code> and the pattern must appear at least once. \n",
    "   3. Using <code>?</code> means the pattern appears zero or one time. \n",
    "   4. For a specific number of occurrences, use <code>{m}</code> after the pattern, where **m** is replaced with the number of times the pattern should repeat. \n",
    "   5. Use <code>{m,n}</code> where **m** is the minimum number of repetitions and **n** is the maximum. Leaving out **n** <code>{m,}</code> means the value appears at least **m** times, with no maximum.\n",
    "    \n",
    "Now we will see an example of each of these using our multi_re_find function:"
   ]
  },
  {
   "cell_type": "code",
   "execution_count": 22,
   "metadata": {},
   "outputs": [
    {
     "name": "stdout",
     "output_type": "stream",
     "text": [
      "Searching for the phrase: \n",
      "sd*\n",
      "['sd', 'sd', 's', 's', 'sddd', 'sddd', 'sdd', 'sd', 's', 's', 's', 's', 's', 's', 'sdddd']\n",
      "\n",
      "\n",
      "Searching for the phrase: \n",
      "sd+\n",
      "['sd', 'sd', 'sddd', 'sddd', 'sdd', 'sd', 'sdddd']\n",
      "\n",
      "\n",
      "Searching for the phrase: \n",
      "sd?\n",
      "['sd', 'sd', 's', 's', 'sd', 'sd', 'sd', 'sd', 's', 's', 's', 's', 's', 's', 'sd']\n",
      "\n",
      "\n",
      "Searching for the phrase: \n",
      "sd{3}\n",
      "['sddd', 'sddd', 'sddd']\n",
      "\n",
      "\n",
      "Searching for the phrase: \n",
      "sd{2,3}\n",
      "['sddd', 'sddd', 'sdd', 'sddd']\n",
      "\n",
      "\n"
     ]
    }
   ],
   "source": [
    "test_phrase = 'sdsd..sssddd...sdddsdd...dsds...dsssss...sdddd'\n",
    "\n",
    "test_patterns = ['sd*',         # s followed by zero or more d's - really just searching for 's'\n",
    "                'sd+',          # s followed by one or more d's - searching for 'sd'\n",
    "                'sd?',          # s followed by zero or one d's - searching for 'sd' or 'sdd' without any more d's \n",
    "                'sd{3}',        # s followed by three d's - searching for 'sddd' \n",
    "                'sd{2,3}',      # s followed by two to three d's - searching for 'sdd' or 'sddd'\n",
    "                ]\n",
    "\n",
    "multi_re_find(test_patterns,test_phrase)"
   ]
  },
  {
   "cell_type": "markdown",
   "metadata": {},
   "source": [
    "**Character Sets**\n",
    "\n",
    "Character sets are used when you wish to match any one of a group of characters at a point in the input\n",
    "\n",
    "Brackets are used to construct character set inputs\n",
    "\n",
    "Example: the input [ab] searches for occurrences of either a or b"
   ]
  },
  {
   "cell_type": "code",
   "execution_count": 23,
   "metadata": {},
   "outputs": [
    {
     "name": "stdout",
     "output_type": "stream",
     "text": [
      "Searching for the phrase: \n",
      "[sd]\n",
      "['s', 'd', 's', 'd', 's', 's', 's', 'd', 'd', 'd', 's', 'd', 'd', 'd', 's', 'd', 'd', 'd', 's', 'd', 's', 'd', 's', 's', 's', 's', 's', 's', 'd', 'd', 'd', 'd']\n",
      "\n",
      "\n",
      "Searching for the phrase: \n",
      "s[sd]+\n",
      "['sdsd', 'sssddd', 'sdddsdd', 'sds', 'sssss', 'sdddd']\n",
      "\n",
      "\n"
     ]
    }
   ],
   "source": [
    "test_phrase = 'sdsd..sssddd...sdddsdd...dsds...dsssss...sdddd'\n",
    "\n",
    "test_patterns = ['[sd]',  # either s or d\n",
    "                 's[sd]+' # s followed by one or more s or d (adding repetition syntax to character sets)\n",
    "                ]\n",
    "\n",
    "multi_re_find(test_patterns, test_phrase)"
   ]
  },
  {
   "cell_type": "code",
   "execution_count": 24,
   "metadata": {},
   "outputs": [],
   "source": [
    "# moving onto Exclusion\n",
    "\n",
    "# we can use ^ to exclude terms by incorporating it into the bracket syntax notation\n",
    "\n",
    "# example: [^...] will match any single character not in the brackets\n",
    "\n",
    "test_phrase = 'This is a string! But it has punctuation. How can we remove it?'"
   ]
  },
  {
   "cell_type": "code",
   "execution_count": 25,
   "metadata": {},
   "outputs": [
    {
     "data": {
      "text/plain": [
       "['This',\n",
       " 'is',\n",
       " 'a',\n",
       " 'string',\n",
       " 'But',\n",
       " 'it',\n",
       " 'has',\n",
       " 'punctuation',\n",
       " 'How',\n",
       " 'can',\n",
       " 'we',\n",
       " 'remove',\n",
       " 'it']"
      ]
     },
     "execution_count": 25,
     "metadata": {},
     "output_type": "execute_result"
    }
   ],
   "source": [
    "# we use [^ ?!.] to check for non punctuation matches and + to check that the match appears at least once\n",
    "\n",
    "re.findall('[^ ?!.]+', test_phrase)"
   ]
  },
  {
   "cell_type": "markdown",
   "metadata": {},
   "source": [
    "**Character ranges**\n",
    "\n",
    "As character sets grow larger, typing all characters that should or should not be matched can be tedious\n",
    "\n",
    "A more compact format using character ranges lets you define a character set to include all contiguous characters between a start and stop point\n",
    "\n",
    "The format used is [start-end]\n",
    "\n",
    "e.g. [a-f] will return matches with any instances of letters between a and f"
   ]
  },
  {
   "cell_type": "code",
   "execution_count": 26,
   "metadata": {},
   "outputs": [
    {
     "name": "stdout",
     "output_type": "stream",
     "text": [
      "Searching for the phrase: \n",
      "[a-z]+\n",
      "['his', 'is', 'an', 'example', 'sentence', 'ets', 'see', 'if', 'we', 'can', 'find', 'some', 'letters']\n",
      "\n",
      "\n",
      "Searching for the phrase: \n",
      "[A-Z]+\n",
      "['T', 'L']\n",
      "\n",
      "\n",
      "Searching for the phrase: \n",
      "[a-zA-Z]+\n",
      "['This', 'is', 'an', 'example', 'sentence', 'Lets', 'see', 'if', 'we', 'can', 'find', 'some', 'letters']\n",
      "\n",
      "\n",
      "Searching for the phrase: \n",
      "[A-Z][a-z]+\n",
      "['This', 'Lets']\n",
      "\n",
      "\n"
     ]
    }
   ],
   "source": [
    "test_phrase = 'This is an example sentence. Lets see if we can find some letters.'\n",
    "\n",
    "test_patterns=['[a-z]+',      # sequences of lower case letters\n",
    "               '[A-Z]+',      # sequences of upper case letters\n",
    "               '[a-zA-Z]+',   # sequences of lower or upper case letters\n",
    "               '[A-Z][a-z]+'] # one upper case letter followed by lower case letters\n",
    "                \n",
    "multi_re_find(test_patterns,test_phrase)"
   ]
  },
  {
   "cell_type": "markdown",
   "metadata": {},
   "source": [
    "**Escape codes**\n",
    "\n",
    "You can use escape codes to find specific types of patterns in data (e.g. digits, whitespace, non-digits, and more)\n",
    "\n",
    "Escapes are prefixed with a backslash \\\n",
    "\n",
    "digit = \\d\n",
    "\n",
    "non digit = \\D\n",
    "\n",
    "whitespace = \\s\n",
    "\n",
    "non whitespace = \\S\n",
    "\n",
    "alphanumeric = \\w\n",
    "\n",
    "non alphanumeric = \\W\n",
    "\n",
    "We add an r before these patterns in regex to tell Python we are looking for escape codes (sometimes hard to read)"
   ]
  },
  {
   "cell_type": "code",
   "execution_count": 27,
   "metadata": {},
   "outputs": [
    {
     "name": "stdout",
     "output_type": "stream",
     "text": [
      "Searching for the phrase: \n",
      "\\d+\n",
      "['1233']\n",
      "\n",
      "\n",
      "Searching for the phrase: \n",
      "\\D+\n",
      "['This is a string with some numbers ', ' and a symbol #hashtag']\n",
      "\n",
      "\n",
      "Searching for the phrase: \n",
      "\\s+\n",
      "[' ', ' ', ' ', ' ', ' ', ' ', ' ', ' ', ' ', ' ', ' ']\n",
      "\n",
      "\n",
      "Searching for the phrase: \n",
      "\\S+\n",
      "['This', 'is', 'a', 'string', 'with', 'some', 'numbers', '1233', 'and', 'a', 'symbol', '#hashtag']\n",
      "\n",
      "\n",
      "Searching for the phrase: \n",
      "\\w+\n",
      "['This', 'is', 'a', 'string', 'with', 'some', 'numbers', '1233', 'and', 'a', 'symbol', 'hashtag']\n",
      "\n",
      "\n",
      "Searching for the phrase: \n",
      "\\W+\n",
      "[' ', ' ', ' ', ' ', ' ', ' ', ' ', ' ', ' ', ' ', ' #']\n",
      "\n",
      "\n"
     ]
    }
   ],
   "source": [
    "test_phrase = 'This is a string with some numbers 1233 and a symbol #hashtag'\n",
    "\n",
    "test_patterns=[ r'\\d+', # sequence of digits\n",
    "                r'\\D+', # sequence of non-digits\n",
    "                r'\\s+', # sequence of whitespace\n",
    "                r'\\S+', # sequence of non-whitespace\n",
    "                r'\\w+', # alphanumeric characters\n",
    "                r'\\W+', # non-alphanumeric\n",
    "                ]\n",
    "\n",
    "multi_re_find(test_patterns,test_phrase)"
   ]
  },
  {
   "cell_type": "code",
   "execution_count": null,
   "metadata": {},
   "outputs": [],
   "source": []
  }
 ],
 "metadata": {
  "kernelspec": {
   "display_name": "Python 3",
   "language": "python",
   "name": "python3"
  },
  "language_info": {
   "codemirror_mode": {
    "name": "ipython",
    "version": 3
   },
   "file_extension": ".py",
   "mimetype": "text/x-python",
   "name": "python",
   "nbconvert_exporter": "python",
   "pygments_lexer": "ipython3",
   "version": "3.6.5"
  }
 },
 "nbformat": 4,
 "nbformat_minor": 2
}

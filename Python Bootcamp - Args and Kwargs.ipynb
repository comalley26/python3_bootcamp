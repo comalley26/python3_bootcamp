{
 "cells": [
  {
   "cell_type": "code",
   "execution_count": 1,
   "metadata": {},
   "outputs": [],
   "source": [
    "# *args are arguments and **kwargs are key word arguments"
   ]
  },
  {
   "cell_type": "code",
   "execution_count": 4,
   "metadata": {},
   "outputs": [],
   "source": [
    "def myfunc(a,b):\n",
    "    '''\n",
    "    returns 5% of sum of a and b\n",
    "    '''\n",
    "    return sum((a, b)) * 0.05"
   ]
  },
  {
   "cell_type": "code",
   "execution_count": 5,
   "metadata": {},
   "outputs": [
    {
     "data": {
      "text/plain": [
       "5.0"
      ]
     },
     "execution_count": 5,
     "metadata": {},
     "output_type": "execute_result"
    }
   ],
   "source": [
    "myfunc(40, 60)"
   ]
  },
  {
   "cell_type": "code",
   "execution_count": 6,
   "metadata": {},
   "outputs": [],
   "source": [
    "# what if we want to work with more than 2 numbers?\n",
    "\n",
    "def myfunc(a,b,c):\n",
    "    \n",
    "    return sum((a, b, c)) * 0.05"
   ]
  },
  {
   "cell_type": "code",
   "execution_count": 7,
   "metadata": {},
   "outputs": [
    {
     "data": {
      "text/plain": [
       "6.0"
      ]
     },
     "execution_count": 7,
     "metadata": {},
     "output_type": "execute_result"
    }
   ],
   "source": [
    "myfunc(20, 40, 60)"
   ]
  },
  {
   "cell_type": "code",
   "execution_count": 8,
   "metadata": {},
   "outputs": [],
   "source": [
    "# what if these arguments are optional?\n",
    "\n",
    "def myfunc(a,b,c=0,d=0):\n",
    "    \n",
    "    return sum((a, b, c, d)) * 0.05"
   ]
  },
  {
   "cell_type": "code",
   "execution_count": 9,
   "metadata": {},
   "outputs": [
    {
     "data": {
      "text/plain": [
       "6.0"
      ]
     },
     "execution_count": 9,
     "metadata": {},
     "output_type": "execute_result"
    }
   ],
   "source": [
    "myfunc(20, 40, 60)"
   ]
  },
  {
   "cell_type": "code",
   "execution_count": 10,
   "metadata": {},
   "outputs": [
    {
     "data": {
      "text/plain": [
       "10.0"
      ]
     },
     "execution_count": 10,
     "metadata": {},
     "output_type": "execute_result"
    }
   ],
   "source": [
    "myfunc(20, 40, 60, 80)"
   ]
  },
  {
   "cell_type": "code",
   "execution_count": 11,
   "metadata": {},
   "outputs": [],
   "source": [
    "# *args will allow us to take an arbitrary number of arguments\n",
    "\n",
    "def myfunc(*args):\n",
    "    \n",
    "    return sum(args)* 0.05"
   ]
  },
  {
   "cell_type": "code",
   "execution_count": 12,
   "metadata": {},
   "outputs": [
    {
     "data": {
      "text/plain": [
       "2.25"
      ]
     },
     "execution_count": 12,
     "metadata": {},
     "output_type": "execute_result"
    }
   ],
   "source": [
    "# now we can include as many values as we want in the function\n",
    "\n",
    "myfunc(1,2,3,4,5,6,7,8,9)"
   ]
  },
  {
   "cell_type": "code",
   "execution_count": 13,
   "metadata": {},
   "outputs": [],
   "source": [
    "# note that args is an arbitrary word, and any word passed in with single * will be treated as args\n",
    "\n",
    "# however, by convention you should always use args\n",
    "\n",
    "# also works for printing values\n",
    "\n",
    "def myfunc(*args):\n",
    "    \n",
    "    for i in args:\n",
    "        \n",
    "        print(i)"
   ]
  },
  {
   "cell_type": "code",
   "execution_count": 14,
   "metadata": {},
   "outputs": [
    {
     "name": "stdout",
     "output_type": "stream",
     "text": [
      "1\n",
      "2\n",
      "3\n",
      "4\n",
      "5\n",
      "6\n",
      "7\n",
      "8\n",
      "9\n"
     ]
    }
   ],
   "source": [
    "myfunc(1,2,3,4,5,6,7,8,9)"
   ]
  },
  {
   "cell_type": "code",
   "execution_count": 15,
   "metadata": {},
   "outputs": [],
   "source": [
    "# we use **kwargs to build out a dictionary of key value pairs that can be used as keyword arguments\n",
    "\n",
    "def myfunc(**kwargs):\n",
    "    \n",
    "    if 'fruit' in kwargs:\n",
    "        \n",
    "        print('My fruit of choice is {}'.format(kwargs['fruit']))\n",
    "        \n",
    "    else:\n",
    "        \n",
    "        print('I did not find any fruit here')"
   ]
  },
  {
   "cell_type": "code",
   "execution_count": 16,
   "metadata": {},
   "outputs": [
    {
     "name": "stdout",
     "output_type": "stream",
     "text": [
      "My fruit of choice is apple\n"
     ]
    }
   ],
   "source": [
    "myfunc(fruit = 'apple')"
   ]
  },
  {
   "cell_type": "code",
   "execution_count": 17,
   "metadata": {},
   "outputs": [
    {
     "name": "stdout",
     "output_type": "stream",
     "text": [
      "My fruit of choice is apple\n"
     ]
    }
   ],
   "source": [
    "myfunc(fruit = 'apple', veggie = 'broccoli')"
   ]
  },
  {
   "cell_type": "code",
   "execution_count": 18,
   "metadata": {},
   "outputs": [],
   "source": [
    "# running again by printing the kwargs at first\n",
    "\n",
    "def myfunc(**kwargs):\n",
    "    \n",
    "    print(kwargs)\n",
    "    \n",
    "    if 'fruit' in kwargs:\n",
    "        \n",
    "        print('My fruit of choice is {}'.format(kwargs['fruit']))\n",
    "        \n",
    "    else:\n",
    "        \n",
    "        print('I did not find any fruit here')"
   ]
  },
  {
   "cell_type": "code",
   "execution_count": 19,
   "metadata": {},
   "outputs": [
    {
     "name": "stdout",
     "output_type": "stream",
     "text": [
      "{'fruit': 'apple', 'veggie': 'broccoli'}\n",
      "My fruit of choice is apple\n"
     ]
    }
   ],
   "source": [
    "myfunc(fruit = 'apple', veggie = 'broccoli')"
   ]
  },
  {
   "cell_type": "code",
   "execution_count": 20,
   "metadata": {},
   "outputs": [],
   "source": [
    "# note that **kwargs is also an arbitrary word, but you should always use kwargs for conventional purposes"
   ]
  },
  {
   "cell_type": "code",
   "execution_count": 21,
   "metadata": {},
   "outputs": [],
   "source": [
    "# we can use *args and **kwargs in combination with each other\n",
    "\n",
    "def myfunc(*args, **kwargs):\n",
    "    \n",
    "    print('I would like {} {}'.format(args[0], kwargs['food']))"
   ]
  },
  {
   "cell_type": "code",
   "execution_count": 22,
   "metadata": {},
   "outputs": [
    {
     "name": "stdout",
     "output_type": "stream",
     "text": [
      "I would like 10 tacos\n"
     ]
    }
   ],
   "source": [
    "# now we can pass in as many arguments and keyword arguments as we want\n",
    "\n",
    "myfunc(10, 20, 30, 100, fruit = 'orange', veggie = 'broccoli', food = 'tacos')"
   ]
  },
  {
   "cell_type": "code",
   "execution_count": 23,
   "metadata": {},
   "outputs": [],
   "source": [
    "# lets show all the args and kwargs within the function\n",
    "\n",
    "def myfunc(*args, **kwargs):\n",
    "    \n",
    "    print(args)\n",
    "    print(kwargs)\n",
    "    \n",
    "    print('I would like {} {}'.format(args[0], kwargs['food']))"
   ]
  },
  {
   "cell_type": "code",
   "execution_count": 24,
   "metadata": {},
   "outputs": [
    {
     "name": "stdout",
     "output_type": "stream",
     "text": [
      "(10, 20, 30, 100)\n",
      "{'fruit': 'orange', 'veggie': 'broccoli', 'food': 'tacos'}\n",
      "I would like 10 tacos\n"
     ]
    }
   ],
   "source": [
    "myfunc(10, 20, 30, 100, fruit = 'orange', veggie = 'broccoli', food = 'tacos')"
   ]
  },
  {
   "cell_type": "code",
   "execution_count": 25,
   "metadata": {},
   "outputs": [
    {
     "ename": "SyntaxError",
     "evalue": "positional argument follows keyword argument (<ipython-input-25-515c1b6d2f87>, line 3)",
     "output_type": "error",
     "traceback": [
      "\u001b[1;36m  File \u001b[1;32m\"<ipython-input-25-515c1b6d2f87>\"\u001b[1;36m, line \u001b[1;32m3\u001b[0m\n\u001b[1;33m    myfunc(10, 20, 30, 100, fruit = 'orange', veggie = 'broccoli', food = 'tacos', 2000)\u001b[0m\n\u001b[1;37m                                                                                  ^\u001b[0m\n\u001b[1;31mSyntaxError\u001b[0m\u001b[1;31m:\u001b[0m positional argument follows keyword argument\n"
     ]
    }
   ],
   "source": [
    "# note that all arguments must be placed before keyword arguments, and doing this will return an error\n",
    "\n",
    "myfunc(10, 20, 30, 100, fruit = 'orange', veggie = 'broccoli', food = 'tacos', 2000)"
   ]
  },
  {
   "cell_type": "code",
   "execution_count": null,
   "metadata": {},
   "outputs": [],
   "source": []
  }
 ],
 "metadata": {
  "kernelspec": {
   "display_name": "Python 3",
   "language": "python",
   "name": "python3"
  },
  "language_info": {
   "codemirror_mode": {
    "name": "ipython",
    "version": 3
   },
   "file_extension": ".py",
   "mimetype": "text/x-python",
   "name": "python",
   "nbconvert_exporter": "python",
   "pygments_lexer": "ipython3",
   "version": "3.6.5"
  }
 },
 "nbformat": 4,
 "nbformat_minor": 2
}

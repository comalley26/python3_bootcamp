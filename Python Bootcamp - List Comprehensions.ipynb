{
 "cells": [
  {
   "cell_type": "code",
   "execution_count": 1,
   "metadata": {},
   "outputs": [],
   "source": [
    "# List comprehensions are a unique way of make a list in python\n",
    "\n",
    "# This is relevant when we use a for loop with a .append() function in the loop"
   ]
  },
  {
   "cell_type": "code",
   "execution_count": 2,
   "metadata": {},
   "outputs": [],
   "source": [
    "mystring = 'hello'"
   ]
  },
  {
   "cell_type": "code",
   "execution_count": 5,
   "metadata": {},
   "outputs": [],
   "source": [
    "# make a list of every character in string\n",
    "\n",
    "mylist = []\n",
    "\n",
    "for x in mystring:\n",
    "    mylist.append(x)"
   ]
  },
  {
   "cell_type": "code",
   "execution_count": 6,
   "metadata": {},
   "outputs": [
    {
     "data": {
      "text/plain": [
       "['h', 'e', 'l', 'l', 'o']"
      ]
     },
     "execution_count": 6,
     "metadata": {},
     "output_type": "execute_result"
    }
   ],
   "source": [
    "mylist"
   ]
  },
  {
   "cell_type": "code",
   "execution_count": 9,
   "metadata": {},
   "outputs": [],
   "source": [
    "# do again using list comprehension\n",
    "\n",
    "# [element for element in an iterable object] = same process as previous for loop with append\n",
    "\n",
    "mylist = [x for x in mystring]"
   ]
  },
  {
   "cell_type": "code",
   "execution_count": 10,
   "metadata": {},
   "outputs": [
    {
     "data": {
      "text/plain": [
       "['h', 'e', 'l', 'l', 'o']"
      ]
     },
     "execution_count": 10,
     "metadata": {},
     "output_type": "execute_result"
    }
   ],
   "source": [
    "mylist"
   ]
  },
  {
   "cell_type": "code",
   "execution_count": 13,
   "metadata": {},
   "outputs": [
    {
     "name": "stdout",
     "output_type": "stream",
     "text": [
      "['w', 'o', 'r', 'd']\n"
     ]
    }
   ],
   "source": [
    "mylist = [letter for letter in 'word']\n",
    "\n",
    "print(mylist)"
   ]
  },
  {
   "cell_type": "code",
   "execution_count": 14,
   "metadata": {},
   "outputs": [
    {
     "name": "stdout",
     "output_type": "stream",
     "text": [
      "[0, 2, 4, 6, 8, 10]\n"
     ]
    }
   ],
   "source": [
    "mylist = [x for x in range(0, 11, 2)]\n",
    "\n",
    "print(mylist)"
   ]
  },
  {
   "cell_type": "code",
   "execution_count": 16,
   "metadata": {},
   "outputs": [
    {
     "name": "stdout",
     "output_type": "stream",
     "text": [
      "[0, 1, 4, 9, 16, 25, 36, 49, 64, 81, 100]\n"
     ]
    }
   ],
   "source": [
    "# squared values\n",
    "\n",
    "mylist = [x**2 for x in range(0, 11)]\n",
    "\n",
    "print(mylist)"
   ]
  },
  {
   "cell_type": "code",
   "execution_count": 19,
   "metadata": {},
   "outputs": [
    {
     "name": "stdout",
     "output_type": "stream",
     "text": [
      "[0, 9, 36, 81]\n"
     ]
    }
   ],
   "source": [
    "# can add if statements to list comprehension\n",
    "\n",
    "mylist = [x**2 for x in range(0, 11) if x%3 == 0]\n",
    "\n",
    "print(mylist)"
   ]
  },
  {
   "cell_type": "code",
   "execution_count": 20,
   "metadata": {},
   "outputs": [],
   "source": [
    "# example: converting celsius to farenheit using equation: 9/5 * celsius temp + 32 = farenheit\n",
    "\n",
    "celsius = [0, 10, 20, 30, 34.5]\n",
    "\n",
    "farenheit = [((9/5) * x + 32) for x in celsius]"
   ]
  },
  {
   "cell_type": "code",
   "execution_count": 21,
   "metadata": {},
   "outputs": [
    {
     "name": "stdout",
     "output_type": "stream",
     "text": [
      "[0, 10, 20, 30, 34.5]\n",
      "\n",
      "\n",
      "[32.0, 50.0, 68.0, 86.0, 94.1]\n"
     ]
    }
   ],
   "source": [
    "print(celsius)\n",
    "print('\\n')\n",
    "print(farenheit)"
   ]
  },
  {
   "cell_type": "code",
   "execution_count": 22,
   "metadata": {},
   "outputs": [
    {
     "name": "stdout",
     "output_type": "stream",
     "text": [
      "[32.0, 50.0, 68.0, 86.0, 94.1]\n"
     ]
    }
   ],
   "source": [
    "# same as the following for loop\n",
    "\n",
    "farenheit = []\n",
    "\n",
    "for x in celsius:\n",
    "    farenheit.append(((9/5) * x + 32))\n",
    "\n",
    "print(farenheit)"
   ]
  },
  {
   "cell_type": "code",
   "execution_count": 25,
   "metadata": {},
   "outputs": [],
   "source": [
    "# if else statements within list comprehension\n",
    "\n",
    "# if an else statement is included, order is reversed and if-else statement goes before for loop\n",
    "\n",
    "# note that this can be confusing, so don't feel need to use it if it makes code difficult to read\n",
    "\n",
    "results = [x**2 if x%3 == 0 else 'Not divisible by 3' for x in range(0, 11)]"
   ]
  },
  {
   "cell_type": "code",
   "execution_count": 26,
   "metadata": {},
   "outputs": [
    {
     "name": "stdout",
     "output_type": "stream",
     "text": [
      "[0, 'Not divisible by 3', 'Not divisible by 3', 9, 'Not divisible by 3', 'Not divisible by 3', 36, 'Not divisible by 3', 'Not divisible by 3', 81, 'Not divisible by 3']\n"
     ]
    }
   ],
   "source": [
    "print(results)"
   ]
  },
  {
   "cell_type": "code",
   "execution_count": 32,
   "metadata": {},
   "outputs": [],
   "source": [
    "# nested loops below\n",
    "\n",
    "# in list comprehension it can also be confusing - make sure code is readable\n",
    "\n",
    "# regular nested loop first\n",
    "\n",
    "mylist = []\n",
    "\n",
    "for x in [2,4,6]:\n",
    "    \n",
    "    for y in [1, 10, 100]:\n",
    "        \n",
    "        mylist.append(x * y)\n"
   ]
  },
  {
   "cell_type": "code",
   "execution_count": 33,
   "metadata": {},
   "outputs": [
    {
     "name": "stdout",
     "output_type": "stream",
     "text": [
      "[2, 20, 200, 4, 40, 400, 6, 60, 600]\n"
     ]
    }
   ],
   "source": [
    "print(mylist) # multiplied 2,4,6 by each value in 100,200,300"
   ]
  },
  {
   "cell_type": "code",
   "execution_count": 34,
   "metadata": {},
   "outputs": [],
   "source": [
    "# nested loop in list comprehension\n",
    "\n",
    "mylist = [x*y for x in [2,4,6] for y in [1, 10, 100]]"
   ]
  },
  {
   "cell_type": "code",
   "execution_count": 35,
   "metadata": {},
   "outputs": [
    {
     "name": "stdout",
     "output_type": "stream",
     "text": [
      "[2, 20, 200, 4, 40, 400, 6, 60, 600]\n"
     ]
    }
   ],
   "source": [
    "print(mylist)"
   ]
  },
  {
   "cell_type": "code",
   "execution_count": null,
   "metadata": {},
   "outputs": [],
   "source": []
  }
 ],
 "metadata": {
  "kernelspec": {
   "display_name": "Python 3",
   "language": "python",
   "name": "python3"
  },
  "language_info": {
   "codemirror_mode": {
    "name": "ipython",
    "version": 3
   },
   "file_extension": ".py",
   "mimetype": "text/x-python",
   "name": "python",
   "nbconvert_exporter": "python",
   "pygments_lexer": "ipython3",
   "version": "3.6.5"
  }
 },
 "nbformat": 4,
 "nbformat_minor": 2
}

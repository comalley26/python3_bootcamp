{
 "cells": [
  {
   "cell_type": "code",
   "execution_count": 1,
   "metadata": {},
   "outputs": [
    {
     "name": "stdout",
     "output_type": "stream",
     "text": [
      "it is true!!\n"
     ]
    }
   ],
   "source": [
    "# If, elif, and else statements are part of control flow - code is only executed if conditions are met\n",
    "\n",
    "# control flow syntax in python makes use of colons and indentations (whitespace)\n",
    "\n",
    "if True:\n",
    "    print('it is true!!')"
   ]
  },
  {
   "cell_type": "code",
   "execution_count": 2,
   "metadata": {},
   "outputs": [
    {
     "name": "stdout",
     "output_type": "stream",
     "text": [
      "feed me!\n"
     ]
    }
   ],
   "source": [
    "hungry = True\n",
    "\n",
    "if hungry:\n",
    "    print('feed me!')"
   ]
  },
  {
   "cell_type": "code",
   "execution_count": 3,
   "metadata": {},
   "outputs": [
    {
     "name": "stdout",
     "output_type": "stream",
     "text": [
      "nah im good\n"
     ]
    }
   ],
   "source": [
    "hungry = False\n",
    "\n",
    "if hungry:\n",
    "    print('feed me!')\n",
    "else:\n",
    "    print('nah im good')"
   ]
  },
  {
   "cell_type": "code",
   "execution_count": 4,
   "metadata": {},
   "outputs": [
    {
     "name": "stdout",
     "output_type": "stream",
     "text": [
      "im cakin\n"
     ]
    }
   ],
   "source": [
    "loc = 'bank'\n",
    "\n",
    "if loc == 'auto shop':\n",
    "    print('my car is broken')\n",
    "elif loc == 'bank':\n",
    "    print('im cakin')\n",
    "else:\n",
    "    print('idk where I am')"
   ]
  },
  {
   "cell_type": "code",
   "execution_count": 5,
   "metadata": {},
   "outputs": [
    {
     "name": "stdout",
     "output_type": "stream",
     "text": [
      "idk where I am\n"
     ]
    }
   ],
   "source": [
    "loc = 'mall'\n",
    "\n",
    "if loc == 'auto shop':\n",
    "    print('my car is broken')\n",
    "elif loc == 'bank':\n",
    "    print('im cakin')\n",
    "else:\n",
    "    print('idk where I am')"
   ]
  },
  {
   "cell_type": "code",
   "execution_count": 6,
   "metadata": {},
   "outputs": [
    {
     "name": "stdout",
     "output_type": "stream",
     "text": [
      "Hey Sammy\n"
     ]
    }
   ],
   "source": [
    "name = 'Sammy'\n",
    "\n",
    "if name == 'Frank':\n",
    "    print('Hey Frank')\n",
    "elif name == 'Sammy':\n",
    "    print('Hey Sammy')\n",
    "else:\n",
    "    print('who tf are you?')"
   ]
  },
  {
   "cell_type": "code",
   "execution_count": null,
   "metadata": {},
   "outputs": [],
   "source": []
  }
 ],
 "metadata": {
  "kernelspec": {
   "display_name": "Python 3",
   "language": "python",
   "name": "python3"
  },
  "language_info": {
   "codemirror_mode": {
    "name": "ipython",
    "version": 3
   },
   "file_extension": ".py",
   "mimetype": "text/x-python",
   "name": "python",
   "nbconvert_exporter": "python",
   "pygments_lexer": "ipython3",
   "version": "3.6.5"
  }
 },
 "nbformat": 4,
 "nbformat_minor": 2
}
